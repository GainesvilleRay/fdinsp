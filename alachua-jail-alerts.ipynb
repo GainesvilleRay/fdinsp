{
 "cells": [
  {
   "cell_type": "code",
   "execution_count": 1,
   "metadata": {
    "collapsed": false
   },
   "outputs": [
    {
     "ename": "ImportError",
     "evalue": "No module named oauth2client.service_account",
     "output_type": "error",
     "traceback": [
      "\u001b[0;31m---------------------------------------------------------------------------\u001b[0m",
      "\u001b[0;31mImportError\u001b[0m                               Traceback (most recent call last)",
      "\u001b[0;32m<ipython-input-1-da82e3f65b65>\u001b[0m in \u001b[0;36m<module>\u001b[0;34m()\u001b[0m\n\u001b[1;32m      2\u001b[0m \u001b[0;31m# from smtplib import smtplib\u001b[0m\u001b[0;34m\u001b[0m\u001b[0;34m\u001b[0m\u001b[0m\n\u001b[1;32m      3\u001b[0m \u001b[0;32mimport\u001b[0m \u001b[0mrequests\u001b[0m\u001b[0;34m\u001b[0m\u001b[0m\n\u001b[0;32m----> 4\u001b[0;31m \u001b[0;32mfrom\u001b[0m \u001b[0moauth2client\u001b[0m\u001b[0;34m.\u001b[0m\u001b[0mservice_account\u001b[0m \u001b[0;32mimport\u001b[0m \u001b[0mServiceAccountCredentials\u001b[0m\u001b[0;34m\u001b[0m\u001b[0m\n\u001b[0m\u001b[1;32m      5\u001b[0m \u001b[0;32mimport\u001b[0m \u001b[0mpandas\u001b[0m \u001b[0;32mas\u001b[0m \u001b[0mpd\u001b[0m\u001b[0;34m\u001b[0m\u001b[0m\n\u001b[1;32m      6\u001b[0m \u001b[0;32mimport\u001b[0m \u001b[0mgspread\u001b[0m\u001b[0;34m\u001b[0m\u001b[0m\n",
      "\u001b[0;31mImportError\u001b[0m: No module named oauth2client.service_account"
     ]
    }
   ],
   "source": [
    "from bs4 import BeautifulSoup\n",
    "# from smtplib import smtplib\n",
    "import requests\n",
    "from oauth2client.service_account import ServiceAccountCredentials\n",
    "import pandas as pd\n",
    "import gspread\n",
    "import pygsheets\n",
    "import sqlite3\n",
    "import smtplib"
   ]
  },
  {
   "cell_type": "code",
   "execution_count": null,
   "metadata": {
    "collapsed": true
   },
   "outputs": [],
   "source": [
    "# open jail log and use data to create Pandas dataframe\n",
    "url = \"http://oldweb.circuit8.org/inmatelist.php\"\n",
    "html = urlopen(url)\n",
    "soup = BeautifulSoup(html, \"lxml\")\n",
    "data_rows = soup.findAll('tr')[1:]\n",
    "inmate_name = [[td.getText() for td in data_rows[i].findAll('td')]\n",
    "              for i in range(len(data_rows))]\n",
    "column_headers = ['inmate_name', 'pod', 'booking_date', 'MNInum', 'image_link']\n",
    "jail_df = pd.DataFrame(inmate_name, columns=column_headers)\n",
    "jail_df = jail_df.applymap(lambda x: str(x).strip() if len(str(x).strip()) else None) # get rid of extra white space\n",
    "# separate joined first-middle-last name into fields for first, middle and last; deal with those with only first-last\n",
    "# no solution here for with inmates with four or more names\n",
    "jail_df.loc[jail_df['inmate_name'].str.split().str.len() == 3, 'first_name'] = jail_df['inmate_name'].str.split().str[-2]\n",
    "jail_df.loc[jail_df['inmate_name'].str.split().str.len() == 3, 'middle_name'] = jail_df['inmate_name'].str.split().str[-1]\n",
    "jail_df.loc[jail_df['inmate_name'].str.split().str.len() == 3, 'last_name'] = jail_df['inmate_name'].str.split().str[-0]\n",
    "jail_df['last_name'].fillna(jail_df['inmate_name'], inplace=True)\n",
    "jail_df['first_name'].fillna(jail_df['inmate_name'], inplace=True)\n",
    "jail_df['first_name'] = jail_df['first_name'].str.replace(r'^[A-Z].+\\s', '')\n",
    "jail_df['last_name'] = jail_df['last_name'].str.replace(r',\\s[A-Z]*', '') \n",
    "jail_df['last_name'] = jail_df['last_name'].apply(lambda x:str(x).replace(',','')) \n",
    "jail_df['firstlast'] = jail_df['first_name'].astype(str) + jail_df['last_name'] #create 'firstlast' col for key"
   ]
  },
  {
   "cell_type": "code",
   "execution_count": null,
   "metadata": {
    "collapsed": true
   },
   "outputs": [],
   "source": []
  },
  {
   "cell_type": "code",
   "execution_count": null,
   "metadata": {
    "collapsed": true
   },
   "outputs": [],
   "source": [
    "# access Google sheet with VIP names to compare to jail log\n",
    "scope = ['https://spreadsheets.google.com/feeds', 'https://www.googleapis.com/auth/drive']\n",
    "gc = pygsheets.authorize(service_file='AlachuaJailAlerts-8f6b7cd78fd0.json')\n",
    "vip_df = pd.DataFrame()\n",
    "sheet = gc.open('vip_names').sheet1\n",
    "vip_df = pd.DataFrame(sheet.get_all_records())\n",
    "jailed_vip = jail_df[jail_df.firstlast.isin(vip_df.firstlast)] #filter"
   ]
  },
  {
   "cell_type": "code",
   "execution_count": null,
   "metadata": {
    "collapsed": true
   },
   "outputs": [],
   "source": [
    "# send out email alert\n",
    "if len(jailed_vip > 0):\n",
    "    sent_from = 'ocagnv@gmail.com'  \n",
    "    to = ['doug.ray@starbanner.com']  \n",
    "    subject = 'OMG Super Important Message'  \n",
    "    body = 'Hey, what up?\\n\\n- You'\n",
    "\n",
    "    email_text = \"\"\"\\  \n",
    "    From: %s  \n",
    "    To: %s  \n",
    "    Subject: %s\n",
    "\n",
    "    %s\n",
    "    \"\"\" % (sent_from, \", \".join(to), subject, body)print('Yes')\n"
   ]
  },
  {
   "cell_type": "code",
   "execution_count": null,
   "metadata": {
    "collapsed": false
   },
   "outputs": [],
   "source": [
    "smtp_server = smtplib.SMTP('smtp.gmail.com', 587)\n",
    "smtp_server.ehlo()\n",
    "smtp_server.starttls()\n",
    "smtp_server.login('ocagnv@gmail.com', '2700SW13th')\n",
    "smtp_server.sendmail('ocagnv@gmail.com', 'doug.ray@starbanner.com', 'Subject: Test from script\\nHi Doug, this is your first email from a script you wrote! Cheers, me.')\n",
    "smtp_server.quit()\n",
    "print ('Email sent successfully')"
   ]
  },
  {
   "cell_type": "code",
   "execution_count": null,
   "metadata": {
    "collapsed": false
   },
   "outputs": [],
   "source": [
    "# send_email.py\n",
    "\n",
    "from email.headerregistry import Address\n",
    "from email.message import EmailMessage\n",
    "import os\n",
    "\n",
    "\n",
    "# Gmail details\n",
    "GMAIL_ADDRESS = 'ocagnv@gmail.com' #later pull out as env var in cron script\n",
    "GMAIL_APPLICATION_PASSWORD = '2700SW13th' #later pull out as env var in cron script\n",
    "\n",
    "email_address = os.getenv('GMAIL_ADDRESS', None)\n",
    "email_password = os.getenv('GMAIL_APPLICATION_PASSWORD', None)\n",
    "\n",
    "# Recipent\n",
    "to_address = (\n",
    "    Address(display_name='Doug Ray', username='ocagnv', domain='gmail.com'),\n",
    ")\n",
    "\n",
    "\n",
    "def create_email_message(from_address, to_address, subject, body):\n",
    "    msg = EmailMessage()\n",
    "    msg['From'] = from_address\n",
    "    msg['To'] = to_address\n",
    "    msg['Subject'] = subject\n",
    "    msg.set_content(body)\n",
    "    return msg\n",
    "\n",
    "\n",
    "if __name__ == '__main__':\n",
    "    msg = create_email_message(\n",
    "        from_address=email_address,\n",
    "        to_address=to_address,\n",
    "        subject='Hello World',\n",
    "        body=\"Test sending the body.\",\n",
    "    )\n",
    "\n",
    "    with smtplib.SMTP('smtp.gmail.com', port=587) as smtp_server:\n",
    "        smtp_server.ehlo()\n",
    "        smtp_server.starttls()\n",
    "        smtp_server.login(email_address, email_password)\n",
    "        smtp_server.send_message(msg)\n",
    "\n",
    "    print('Email sent successfully')\n",
    "    \n"
   ]
  },
  {
   "cell_type": "code",
   "execution_count": null,
   "metadata": {
    "collapsed": true
   },
   "outputs": [],
   "source": []
  }
 ],
 "metadata": {
  "kernelspec": {
   "display_name": "Python 2",
   "language": "python",
   "name": "python2"
  },
  "language_info": {
   "codemirror_mode": {
    "name": "ipython",
    "version": 2
   },
   "file_extension": ".py",
   "mimetype": "text/x-python",
   "name": "python",
   "nbconvert_exporter": "python",
   "pygments_lexer": "ipython2",
   "version": "2.7.13"
  }
 },
 "nbformat": 4,
 "nbformat_minor": 2
}

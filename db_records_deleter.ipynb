{
 "cells": [
  {
   "cell_type": "code",
   "execution_count": 1,
   "metadata": {},
   "outputs": [],
   "source": [
    "\"\"\"\n",
    "Script to delete records from sqlite database as needed.\n",
    "\"\"\"\n",
    "\n",
    "import sqlite3"
   ]
  },
  {
   "cell_type": "code",
   "execution_count": 2,
   "metadata": {},
   "outputs": [],
   "source": [
    "def create_connection(db_file):\n",
    "    \"\"\"\n",
    "    Create a database connection\n",
    "    \"\"\"\n",
    "    conn = None\n",
    "    try:\n",
    "        conn = sqlite3.connect(db_file)\n",
    "    except Error as e:\n",
    "        print(e)\n",
    " \n",
    "    return conn"
   ]
  },
  {
   "cell_type": "code",
   "execution_count": null,
   "metadata": {},
   "outputs": [],
   "source": [
    "def visitid_by_date(conn, good_date):\n",
    "    \"\"\"\n",
    "    Create a list of visitid by date\n",
    "    :param conn: Connection to the database\n",
    "    :param good_date: last good date in database\n",
    "    :param return: list of visitids since good_date\n",
    "    \"\"\"\n",
    "    myquery = f\"SELECT visitid FROM fdinsp WHERE time_posted >=?\"\n",
    "    cur = conn.cursor()\n",
    "    cur.execute(myquery, (good_date,))\n",
    "    idlist=list(cur.fetchall())\n",
    "    list_count = str(len(idlist))\n",
    "            \n",
    "    return idlist, list_count\n"
   ]
  },
  {
   "cell_type": "code",
   "execution_count": null,
   "metadata": {},
   "outputs": [],
   "source": [
    "def delete_violations(conn, id):\n",
    "    \"\"\"\n",
    "    Delete detailed violations by visitid\n",
    "    :param conn:  Connection to the SQLite database\n",
    "    :param id: visitid of the violation\n",
    "    :return:\n",
    "    \"\"\"\n",
    "    sql = \"DELETE FROM violations WHERE id=?\"\n",
    "    cur = conn.cursor()\n",
    "    cur.execute(sql, (id,))\n",
    "    conn.commit()\n",
    "    "
   ]
  },
  {
   "cell_type": "code",
   "execution_count": null,
   "metadata": {},
   "outputs": [],
   "source": [
    "def delete_fdinsp(conn, good_date):\n",
    "    \"\"\"\n",
    "    Delete summary reports since good date\n",
    "    :param: Connection to database\n",
    "    :param: Last good date in database\n",
    "    :return:\n",
    "    \"\"\"\n",
    "    \n",
    "    sql = \"DELETE FROM fdinsp WHERE time_posted >=?\"\n",
    "    conn = sqlite3.connect('rinspect.sqlite')\n",
    "    cur = conn.cursor()\n",
    "    cur.execute(sql, (good_date,))\n",
    "    conn.commit() \n",
    "    "
   ]
  },
  {
   "cell_type": "code",
   "execution_count": null,
   "metadata": {},
   "outputs": [],
   "source": [
    "def main():\n",
    "    \n",
    "    good_date = \"2019-11-12\" # Update as needed\n",
    "    database = \"rinspect.sqlite\"\n",
    "    conn = create_connection(database)\n",
    "    \n",
    "    # create the list for visitid\n",
    "    visitids = visitid_by_date(conn, good_date)\n",
    "    list_count = visitid_by_date(conn, good_date)\n",
    "    visitids = [i[0] for i in visitids]\n",
    "    print(\"There were\" + list_count + \"records since good date.\")\n",
    "    \n",
    "    # use list to delete records in violations table\n",
    "    for id in visitids:\n",
    "        delete_violations(conn, id)\n",
    "            \n",
    "    # delete summary reports since good date\n",
    "    delete_fdinsp(conn, good_date)\n",
    "    list_count = visitid_by_date(conn, good_date)\n",
    "    print(\"Now there are\" + list_count + \"records since good date.\")\n",
    "    \n",
    "    conn.close()"
   ]
  },
  {
   "cell_type": "code",
   "execution_count": null,
   "metadata": {},
   "outputs": [],
   "source": [
    "if __name__ == '__main__':\n",
    "    main()"
   ]
  },
  {
   "cell_type": "code",
   "execution_count": 22,
   "metadata": {},
   "outputs": [],
   "source": [
    "def remove_orphans(conn):\n",
    "    \"\"\"\n",
    "    Remove records from violations table if the associated\n",
    "    inspection is no longer in the fdinsp table.\n",
    "    \"\"\"\n",
    "    \n",
    "    sql = \"SELECT visitid FROM violations EXCEPT SELECT visitid FROM fdinsp;\"\n",
    "    cur = conn.cursor()\n",
    "    cur.execute(sql,)\n",
    "    idlist = list(cur.fetchall())\n",
    "    #list_count = str(len(idlist))\n",
    "    #print(list_count)\n",
    "    \n",
    "    return idlist\n",
    "    "
   ]
  },
  {
   "cell_type": "code",
   "execution_count": 23,
   "metadata": {},
   "outputs": [],
   "source": [
    "conn = create_connection('rinspect.sqlite')\n",
    "idlist = remove_orphans(conn)\n",
    "visitids = [i[0] for i in idlist]"
   ]
  },
  {
   "cell_type": "code",
   "execution_count": 19,
   "metadata": {},
   "outputs": [
    {
     "name": "stdout",
     "output_type": "stream",
     "text": [
      "[(5882258,), '3']\n"
     ]
    }
   ],
   "source": [
    "print(visitids)"
   ]
  },
  {
   "cell_type": "code",
   "execution_count": null,
   "metadata": {},
   "outputs": [],
   "source": []
  }
 ],
 "metadata": {
  "kernelspec": {
   "display_name": "Python 3",
   "language": "python",
   "name": "python3"
  },
  "language_info": {
   "codemirror_mode": {
    "name": "ipython",
    "version": 3
   },
   "file_extension": ".py",
   "mimetype": "text/x-python",
   "name": "python",
   "nbconvert_exporter": "python",
   "pygments_lexer": "ipython3",
   "version": "3.7.1"
  }
 },
 "nbformat": 4,
 "nbformat_minor": 2
}

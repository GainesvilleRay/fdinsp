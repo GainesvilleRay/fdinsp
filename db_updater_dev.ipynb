{
 "cells": [
  {
   "cell_type": "code",
   "execution_count": 1,
   "metadata": {},
   "outputs": [],
   "source": [
    "#installed with pip\n",
    "from pandas import pandas as pd\n",
    "from bs4 import BeautifulSoup\n",
    "from urllib.request import urlopen\n",
    "from email.message import EmailMessage\n",
    "\n",
    "# built-in libraries\n",
    "import datetime\n",
    "import re\n",
    "import sqlite3\n",
    "import urllib\n",
    "import csv\n",
    "import smtplib\n",
    "import os"
   ]
  },
  {
   "cell_type": "code",
   "execution_count": 2,
   "metadata": {},
   "outputs": [],
   "source": [
    "insp1 = pd.read_csv(\"ftp://dbprftp.state.fl.us/pub/llweb/1fdinspi.csv\", usecols=[2, 4, 5, 6, 7, 8, 9, 12, 13, 14, 17, 18, 80, 81], encoding=\"ISO-8859-1\")"
   ]
  },
  {
   "cell_type": "code",
   "execution_count": 3,
   "metadata": {},
   "outputs": [],
   "source": [
    "insp1.columns = [\"county\", \"licnum\", \"sitename\", \"streetaddy\", \"cityaddy\", \"zip\",\n",
    "                \"inspnum\", \"insptype\", \"inspdispos\", \"inspdate\", \"totalvio\", \"highvio\", \"licid\", \"visitid\"]"
   ]
  },
  {
   "cell_type": "code",
   "execution_count": 4,
   "metadata": {},
   "outputs": [],
   "source": [
    "insp2 = pd.read_csv(\"ftp://dbprftp.state.fl.us/pub/llweb/2fdinspi.csv\", usecols=[2, 4, 5, 6, 7, 8, 9, 12, 13, 14, 17, 18, 80, 81], encoding=\"ISO-8859-1\")\n",
    "insp2.columns = [\"county\", \"licnum\", \"sitename\", \"streetaddy\", \"cityaddy\", \"zip\",\n",
    "                \"inspnum\", \"insptype\", \"inspdispos\", \"inspdate\", \"totalvio\", \"highvio\", \"licid\", \"visitid\"]"
   ]
  },
  {
   "cell_type": "code",
   "execution_count": 5,
   "metadata": {},
   "outputs": [],
   "source": [
    "frames = [insp1, insp2]"
   ]
  },
  {
   "cell_type": "code",
   "execution_count": 6,
   "metadata": {},
   "outputs": [],
   "source": [
    "result = pd.concat([insp1, insp2], axis=0, join='outer', ignore_index=False)"
   ]
  },
  {
   "cell_type": "code",
   "execution_count": 7,
   "metadata": {},
   "outputs": [
    {
     "name": "stdout",
     "output_type": "stream",
     "text": [
      "<class 'pandas.core.frame.DataFrame'>\n",
      "Int64Index: 10730 entries, 0 to 5923\n",
      "Data columns (total 14 columns):\n",
      "county        10730 non-null object\n",
      "licnum        10730 non-null int64\n",
      "sitename      10727 non-null object\n",
      "streetaddy    10730 non-null object\n",
      "cityaddy      10730 non-null object\n",
      "zip           10730 non-null object\n",
      "inspnum       10730 non-null int64\n",
      "insptype      10730 non-null object\n",
      "inspdispos    10730 non-null object\n",
      "inspdate      10730 non-null object\n",
      "totalvio      10730 non-null int64\n",
      "highvio       10730 non-null int64\n",
      "licid         10730 non-null int64\n",
      "visitid       10730 non-null int64\n",
      "dtypes: int64(6), object(8)\n",
      "memory usage: 1.2+ MB\n"
     ]
    }
   ],
   "source": [
    "result.info()"
   ]
  },
  {
   "cell_type": "code",
   "execution_count": 8,
   "metadata": {},
   "outputs": [
    {
     "data": {
      "text/html": [
       "<div>\n",
       "<style scoped>\n",
       "    .dataframe tbody tr th:only-of-type {\n",
       "        vertical-align: middle;\n",
       "    }\n",
       "\n",
       "    .dataframe tbody tr th {\n",
       "        vertical-align: top;\n",
       "    }\n",
       "\n",
       "    .dataframe thead th {\n",
       "        text-align: right;\n",
       "    }\n",
       "</style>\n",
       "<table border=\"1\" class=\"dataframe\">\n",
       "  <thead>\n",
       "    <tr style=\"text-align: right;\">\n",
       "      <th></th>\n",
       "      <th>county</th>\n",
       "      <th>licnum</th>\n",
       "      <th>sitename</th>\n",
       "      <th>streetaddy</th>\n",
       "      <th>cityaddy</th>\n",
       "      <th>zip</th>\n",
       "      <th>inspnum</th>\n",
       "      <th>insptype</th>\n",
       "      <th>inspdispos</th>\n",
       "      <th>inspdate</th>\n",
       "      <th>totalvio</th>\n",
       "      <th>highvio</th>\n",
       "      <th>licid</th>\n",
       "      <th>visitid</th>\n",
       "    </tr>\n",
       "  </thead>\n",
       "  <tbody>\n",
       "    <tr>\n",
       "      <th>0</th>\n",
       "      <td>Dade</td>\n",
       "      <td>2300076</td>\n",
       "      <td>THE ASIAN KITCHEN</td>\n",
       "      <td>5796 BIRD RD</td>\n",
       "      <td>MIAMI</td>\n",
       "      <td>33155</td>\n",
       "      <td>2809650</td>\n",
       "      <td>Routine - Food</td>\n",
       "      <td>Inspection Completed - No Further Action</td>\n",
       "      <td>08/27/2018</td>\n",
       "      <td>10</td>\n",
       "      <td>1</td>\n",
       "      <td>5858687</td>\n",
       "      <td>6626178</td>\n",
       "    </tr>\n",
       "    <tr>\n",
       "      <th>1</th>\n",
       "      <td>Dade</td>\n",
       "      <td>2300091</td>\n",
       "      <td>IL ITALIANO</td>\n",
       "      <td>1120 WEST FLAGLER ST</td>\n",
       "      <td>MIAMI</td>\n",
       "      <td>33130</td>\n",
       "      <td>2820207</td>\n",
       "      <td>Routine - Food</td>\n",
       "      <td>Inspection Completed - No Further Action</td>\n",
       "      <td>07/20/2018</td>\n",
       "      <td>10</td>\n",
       "      <td>1</td>\n",
       "      <td>6587551</td>\n",
       "      <td>6643128</td>\n",
       "    </tr>\n",
       "    <tr>\n",
       "      <th>2</th>\n",
       "      <td>Dade</td>\n",
       "      <td>2300098</td>\n",
       "      <td>MI RANCHITO SALVADORENO RESTAURANTE LLC</td>\n",
       "      <td>1947 W FLAGLER ST</td>\n",
       "      <td>MIAMI</td>\n",
       "      <td>33135</td>\n",
       "      <td>2806913</td>\n",
       "      <td>Routine - Food</td>\n",
       "      <td>Call Back - Complied</td>\n",
       "      <td>10/01/2018</td>\n",
       "      <td>0</td>\n",
       "      <td>0</td>\n",
       "      <td>6269873</td>\n",
       "      <td>6690356</td>\n",
       "    </tr>\n",
       "    <tr>\n",
       "      <th>3</th>\n",
       "      <td>Dade</td>\n",
       "      <td>2300098</td>\n",
       "      <td>MI RANCHITO SALVADORENO RESTAURANTE LLC</td>\n",
       "      <td>1947 W FLAGLER ST</td>\n",
       "      <td>MIAMI</td>\n",
       "      <td>33135</td>\n",
       "      <td>2806913</td>\n",
       "      <td>Routine - Food</td>\n",
       "      <td>Warning Issued</td>\n",
       "      <td>07/30/2018</td>\n",
       "      <td>15</td>\n",
       "      <td>1</td>\n",
       "      <td>6269873</td>\n",
       "      <td>6621897</td>\n",
       "    </tr>\n",
       "    <tr>\n",
       "      <th>4</th>\n",
       "      <td>Dade</td>\n",
       "      <td>2300161</td>\n",
       "      <td>JIMMY'S EAST SIDE DINER</td>\n",
       "      <td>7201 BISCAYNE BLVD</td>\n",
       "      <td>MIAMI</td>\n",
       "      <td>331385118</td>\n",
       "      <td>2778659</td>\n",
       "      <td>Routine - Food</td>\n",
       "      <td>Call Back - Complied</td>\n",
       "      <td>09/17/2018</td>\n",
       "      <td>9</td>\n",
       "      <td>2</td>\n",
       "      <td>2153681</td>\n",
       "      <td>6725917</td>\n",
       "    </tr>\n",
       "  </tbody>\n",
       "</table>\n",
       "</div>"
      ],
      "text/plain": [
       "  county   licnum                                 sitename  \\\n",
       "0   Dade  2300076                        THE ASIAN KITCHEN   \n",
       "1   Dade  2300091                              IL ITALIANO   \n",
       "2   Dade  2300098  MI RANCHITO SALVADORENO RESTAURANTE LLC   \n",
       "3   Dade  2300098  MI RANCHITO SALVADORENO RESTAURANTE LLC   \n",
       "4   Dade  2300161                  JIMMY'S EAST SIDE DINER   \n",
       "\n",
       "             streetaddy cityaddy        zip  inspnum        insptype  \\\n",
       "0          5796 BIRD RD    MIAMI      33155  2809650  Routine - Food   \n",
       "1  1120 WEST FLAGLER ST    MIAMI      33130  2820207  Routine - Food   \n",
       "2     1947 W FLAGLER ST    MIAMI      33135  2806913  Routine - Food   \n",
       "3     1947 W FLAGLER ST    MIAMI      33135  2806913  Routine - Food   \n",
       "4    7201 BISCAYNE BLVD    MIAMI  331385118  2778659  Routine - Food   \n",
       "\n",
       "                                 inspdispos    inspdate  totalvio  highvio  \\\n",
       "0  Inspection Completed - No Further Action  08/27/2018        10        1   \n",
       "1  Inspection Completed - No Further Action  07/20/2018        10        1   \n",
       "2                      Call Back - Complied  10/01/2018         0        0   \n",
       "3                            Warning Issued  07/30/2018        15        1   \n",
       "4                      Call Back - Complied  09/17/2018         9        2   \n",
       "\n",
       "     licid  visitid  \n",
       "0  5858687  6626178  \n",
       "1  6587551  6643128  \n",
       "2  6269873  6690356  \n",
       "3  6269873  6621897  \n",
       "4  2153681  6725917  "
      ]
     },
     "execution_count": 8,
     "metadata": {},
     "output_type": "execute_result"
    }
   ],
   "source": [
    "result.head()"
   ]
  },
  {
   "cell_type": "code",
   "execution_count": null,
   "metadata": {},
   "outputs": [],
   "source": []
  }
 ],
 "metadata": {
  "kernelspec": {
   "display_name": "Python 3",
   "language": "python",
   "name": "python3"
  },
  "language_info": {
   "codemirror_mode": {
    "name": "ipython",
    "version": 3
   },
   "file_extension": ".py",
   "mimetype": "text/x-python",
   "name": "python",
   "nbconvert_exporter": "python",
   "pygments_lexer": "ipython3",
   "version": "3.6.5"
  }
 },
 "nbformat": 4,
 "nbformat_minor": 2
}
